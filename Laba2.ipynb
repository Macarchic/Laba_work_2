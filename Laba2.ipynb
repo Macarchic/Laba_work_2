{
 "cells": [
  {
   "cell_type": "code",
   "execution_count": 1,
   "id": "25c30f88-1bfc-4ef2-a9c2-445929d7f306",
   "metadata": {
    "scrolled": true
   },
   "outputs": [],
   "source": [
    "import numpy as np\n",
    "import math\n",
    "import scripts as sc"
   ]
  },
  {
   "cell_type": "markdown",
   "id": "98b75deb-e069-4186-ac9f-46a05e5acc9d",
   "metadata": {},
   "source": [
    "**First of all, we need to get our .pdb. For this I used functions that is based on my previous laboratory work - Laba1**"
   ]
  },
  {
   "cell_type": "code",
   "execution_count": 2,
   "id": "431811ed-1186-4122-b1f3-873283f959c2",
   "metadata": {
    "scrolled": true
   },
   "outputs": [],
   "source": [
    "new_names, lines = sc.nucleoside_building(\"data.xyz\")"
   ]
  },
  {
   "cell_type": "markdown",
   "id": "856d2096-8d3e-45a3-81c5-a99004202239",
   "metadata": {},
   "source": [
    "**The goal of our lab work is to find dihedral and valence angles, so let's create arrays with the information**"
   ]
  },
  {
   "cell_type": "code",
   "execution_count": 3,
   "id": "905542a4-b13c-40d5-9d6e-2920ca5ca472",
   "metadata": {},
   "outputs": [],
   "source": [
    "input0 = [\"C4'\", \"O4'\", \"C1'\", \"C2'\"]\n",
    "input1 = [\"O4'\", \"C1'\", \"C2'\", \"C3'\"]\n",
    "input2 = [\"C1'\", \"C2'\", \"C3'\", \"C4'\"]\n",
    "input3 = [\"C2'\", \"C3'\", \"C4'\", \"O4'\"]\n",
    "input4 = [\"C3'\", \"C4'\", \"O4'\", \"C1'\"]\n",
    "\n",
    "inputs = [input0, input1, input2, input3, input4]"
   ]
  },
  {
   "cell_type": "markdown",
   "id": "78ededea-dc3e-42a3-9dc1-8ddc6da9c988",
   "metadata": {},
   "source": [
    "**Now we use the Vector class and functions such as: tan, arctan, dot, norm, etc. that I wrote earlier in the scripts.py**."
   ]
  },
  {
   "cell_type": "code",
   "execution_count": 4,
   "id": "d8b82d72-76da-4820-ad04-7a50e98d19ac",
   "metadata": {},
   "outputs": [],
   "source": [
    "ps = []\n",
    "ns = []\n",
    "for check in range(0, 5):\n",
    "    ps.append(sc.Vector(inputs[check], new_names, lines).result)\n",
    "for check in range(0,5):\n",
    "    ns.append(sc.angle(sc.vector_cross(ps[check][0], ps[check][1]), sc.vector_cross(ps[check][1], ps[check][2])))\n",
    "    ns[check] *= sc.adjusment(sc.vector_cross(ps[check][0], ps[check][1]), sc.vector_cross(ps[check][1], ps[check][2]), ps[check][1])"
   ]
  },
  {
   "cell_type": "markdown",
   "id": "a7a53713-2524-4a99-b083-daa2ce2c4f2c",
   "metadata": {},
   "source": [
    "**Let's print the result to the console and save it in a new file results_of_laba2**"
   ]
  },
  {
   "cell_type": "code",
   "execution_count": 13,
   "id": "ba95abb7-342d-4539-a0e5-8d2c46a67467",
   "metadata": {},
   "outputs": [
    {
     "name": "stdout",
     "output_type": "stream",
     "text": [
      "\n",
      "######################################################################\n",
      "||  [\"C4'\", \"O4'\", \"C1'\", \"C2'\"]      ->      -2.129061824984566 \t||\n",
      "||  [\"O4'\", \"C1'\", \"C2'\", \"C3'\"]      ->      22.660573646544343 \t||\n",
      "||  [\"C1'\", \"C2'\", \"C3'\", \"C4'\"]      ->      -32.669296197095136 \t||\n",
      "||  [\"C2'\", \"C3'\", \"C4'\", \"O4'\"]      ->      32.31442863309188 \t||\n",
      "||  [\"C3'\", \"C4'\", \"O4'\", \"C1'\"]      ->      -19.306501731540727 \t||\n",
      "######################################################################\n",
      "||  tanp = -0.5564699154210394  ||\n",
      "||  nmax = -37.386848288673235  ||\n",
      "##################################\n"
     ]
    }
   ],
   "source": [
    "print()\n",
    "tanP = sc.tan(ns)\n",
    "nmax = sc.nmaxes(ns, sc.arctan(tanP))\n",
    "\n",
    "print(\"#\"*70)\n",
    "for check in range(0, 5):\n",
    "    print(\"||  \" + str(inputs[check]) + \"      ->      \" + str(ns[check]) + \" \\t||\")\n",
    "print(\"#\"*70)\n",
    "print(\"||  \" + \"tanp = \" + str(tanP) + \"  ||\")\n",
    "print(\"||  \" + \"nmax = \" + str(nmax) + \"  ||\")\n",
    "print(\"#\"*34)\n",
    "\n",
    "\n",
    "with open(\"results_of_laba2\", \"w\") as file:\n",
    "    file.write(\"#\" * 70 + \"\\n\")\n",
    "    for check in range(0, 5):\n",
    "        file.write(\"||  \" + str(inputs[check]) + \"      ->      \" + str(ns[check]) + \" \\t||\\n\")\n",
    "    file.write(\"#\"*70 + \"\\n\")\n",
    "    file.write(\"||  \" + \"tanp = \" + str(tanP) + \"  ||\\n\")\n",
    "    file.write(\"||  \" + \"nmax = \" + str(nmax) + \"  ||\\n\")\n",
    "    file.write(\"#\"*34 + \"\\n\")"
   ]
  },
  {
   "cell_type": "code",
   "execution_count": null,
   "id": "bd8f4388-cbe2-44fb-906f-8ab9b7ab1c88",
   "metadata": {},
   "outputs": [],
   "source": []
  }
 ],
 "metadata": {
  "kernelspec": {
   "display_name": "Python 3 (ipykernel)",
   "language": "python",
   "name": "python3"
  },
  "language_info": {
   "codemirror_mode": {
    "name": "ipython",
    "version": 3
   },
   "file_extension": ".py",
   "mimetype": "text/x-python",
   "name": "python",
   "nbconvert_exporter": "python",
   "pygments_lexer": "ipython3",
   "version": "3.11.7"
  }
 },
 "nbformat": 4,
 "nbformat_minor": 5
}
